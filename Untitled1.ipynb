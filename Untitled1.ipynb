{
 "cells": [
  {
   "cell_type": "code",
   "execution_count": 20,
   "metadata": {},
   "outputs": [
    {
     "data": {
      "text/plain": [
       "TensorShape([Dimension(5), Dimension(5)])"
      ]
     },
     "metadata": {},
     "output_type": "display_data"
    },
    {
     "data": {
      "text/plain": [
       "TensorShape([Dimension(5), Dimension(5)])"
      ]
     },
     "metadata": {},
     "output_type": "display_data"
    }
   ],
   "source": [
    "import tensorflow as tf\n",
    "\n",
    "sess = tf.InteractiveSession()\n",
    "\n",
    "# 画像をグレースケールで読み込み、浮動小数点数データに変換する\n",
    "png = tf.read_file('03-02-original.png')\n",
    "image = tf.image.decode_png(png, channels=1, dtype=tf.uint8)\n",
    "image_float = tf.to_float(image)\n",
    "# tf.nn.conv2dメソッドを適用するために4階のテンソルに変換\n",
    "image_reshape = tf.reshape(image_float, [-1, 32, 32, 1])\n",
    "\n",
    "# カーネルの作成\n",
    "kernel = tf.constant(\n",
    "  [\n",
    "    [ 0, -1, -1, -1,  0],\n",
    "    [-1,  0,  3,  0, -1],\n",
    "    [-1,  3,  0,  3, -1],\n",
    "    [-1,  0,  3,  0, -1],\n",
    "    [ 0, -1, -1, -1,  0]\n",
    "  ],\n",
    "  dtype=tf.float32)\n",
    "# tf.nn.conv2dメソッドを適用するために4階のテンソルに変換\n",
    "kernel_reshape = tf.reshape(kernel, [5, 5, 1, 1])\n",
    "\n",
    "# ストライド幅\n",
    "# 3ピクセルずつ動かす\n",
    "strides = [1, 3, 3, 1]\n",
    "\n",
    "# 畳み込み\n",
    "convolution_result = tf.nn.conv2d(\n",
    "  image_reshape,\n",
    "  kernel_reshape,\n",
    "  strides=strides,\n",
    "  padding='VALID'\n",
    ")\n",
    "\n",
    "# 結果を見やすいように2階のテンソル（行列）に変換\n",
    "#tf.reshape(convolution_result, [10, 10]).eval()\n",
    "display(kernel.shape)"
   ]
  },
  {
   "cell_type": "code",
   "execution_count": null,
   "metadata": {},
   "outputs": [],
   "source": []
  },
  {
   "cell_type": "code",
   "execution_count": null,
   "metadata": {},
   "outputs": [],
   "source": []
  }
 ],
 "metadata": {
  "kernelspec": {
   "display_name": "Python 3",
   "language": "python",
   "name": "python3"
  },
  "language_info": {
   "codemirror_mode": {
    "name": "ipython",
    "version": 3
   },
   "file_extension": ".py",
   "mimetype": "text/x-python",
   "name": "python",
   "nbconvert_exporter": "python",
   "pygments_lexer": "ipython3",
   "version": "3.6.0"
  }
 },
 "nbformat": 4,
 "nbformat_minor": 2
}
