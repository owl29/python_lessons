{
 "cells": [
  {
   "cell_type": "code",
   "execution_count": 3,
   "metadata": {},
   "outputs": [
    {
     "ename": "SyntaxError",
     "evalue": "invalid syntax (<ipython-input-3-a4389fe5b657>, line 10)",
     "output_type": "error",
     "traceback": [
      "\u001b[0;36m  File \u001b[0;32m\"<ipython-input-3-a4389fe5b657>\"\u001b[0;36m, line \u001b[0;32m10\u001b[0m\n\u001b[0;31m    for (i in 1:length(data_x)){\u001b[0m\n\u001b[0m               ^\u001b[0m\n\u001b[0;31mSyntaxError\u001b[0m\u001b[0;31m:\u001b[0m invalid syntax\n"
     ]
    }
   ],
   "source": [
    "# 未インストールならインストールする。\n",
    "#install.packages('quantreg')\n",
    "library(quantreg)\n",
    "\n",
    "b <- -5   # 直線の傾き\n",
    "a <- 35   # 直線の切片\n",
    "\n",
    "data_x <- runif(500, 0, 5)    # 0-5の間の一様乱数\n",
    "data_y <- rep(0, length(data_x))\n",
    "for (i in 1:length(data_x)){\n",
    "    # 切片:a, 傾き:b の直線に誤差がのるモデル\n",
    "    data_y[i] <- b*data_x[i] + a + rnorm(1, mean=0, sd=1+ data_x[i])  # 説明変数の大きさに依存した分散を設定\n",
    "}\n",
    "\n",
    "# 散布図を描画\n",
    "plot(data_x, data_y, xlab=\"Random Variable\", ylab=\"Random Variable\", \n",
    "        type = \"n\", cex=.5, xlim=c(0, 5), ylim=c(0, 40))\n",
    "points(data_x, data_y, cex=.5, col=\"blue\")\n"
   ]
  },
  {
   "cell_type": "code",
   "execution_count": null,
   "metadata": {},
   "outputs": [],
   "source": []
  }
 ],
 "metadata": {
  "kernelspec": {
   "display_name": "Python 3",
   "language": "python",
   "name": "python3"
  },
  "language_info": {
   "codemirror_mode": {
    "name": "ipython",
    "version": 3
   },
   "file_extension": ".py",
   "mimetype": "text/x-python",
   "name": "python",
   "nbconvert_exporter": "python",
   "pygments_lexer": "ipython3",
   "version": "3.6.0"
  }
 },
 "nbformat": 4,
 "nbformat_minor": 2
}
