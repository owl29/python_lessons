{
 "cells": [
  {
   "cell_type": "code",
   "execution_count": 3,
   "metadata": {},
   "outputs": [
    {
     "name": "stderr",
     "output_type": "stream",
     "text": [
      "100%|██████████| 10/10 [00:00<00:00, 51.86it/s]\n",
      "100%|██████████| 10/10 [00:00<00:00, 2086.72it/s]"
     ]
    },
    {
     "name": "stdout",
     "output_type": "stream",
     "text": [
      "SaveImages_32Gray.npy\n",
      "(10, 32, 32, 1)\n",
      "converted: ./Images/cfn.jpg\n",
      "converted: ./Images/afz.jpg\n",
      "converted: ./Images/afn-s.jpg\n",
      "converted: ./Images/afnd-sc.jpg\n",
      "converted: ./Images/cdfd.jpg\n",
      "converted: ./Images/afzd-sc.jpg\n",
      "converted: ./Images/afz-s.jpg\n",
      "converted: ./Images/afnd-c.jpg\n",
      "converted: ./Images/afzd-c.jpg\n",
      "converted: ./Images/cd.jpg\n"
     ]
    },
    {
     "name": "stderr",
     "output_type": "stream",
     "text": [
      "\n"
     ]
    }
   ],
   "source": [
    "#-------------------------------------------------------\n",
    "# 複数のjpgファイルを３２X３２配列.pyに変換保存する\n",
    "#-------------------------------------------------------\n",
    "import numpy as np\n",
    "import glob\n",
    "from keras.preprocessing.image import load_img,img_to_array\n",
    "from tqdm import tqdm\n",
    "\n",
    "IMG_SIZE=32\n",
    "#True=Grayscale, False=RGB\n",
    "COLOR=True\n",
    "#Name to load images Folder\n",
    "DIR_NAME='./Images'\n",
    "#Name to save\n",
    "SAVE_FILE_NAME='SaveImages'\n",
    "#sahpe File Name\n",
    "if COLOR:\n",
    "    SAVE_FILE_NAME=SAVE_FILE_NAME+'_'+str(IMG_SIZE)+'Gray'\n",
    "else:\n",
    "    SAVE_FILE_NAME=SAVE_FILE_NAME+'_'+str(IMG_SIZE)+'RGB'\n",
    "\n",
    "#load madomagi images and reshapels\n",
    "img_list=glob.glob(DIR_NAME+'/*.jpg')\n",
    "#print('Input Files:',img_list)\n",
    "temp_img_array_list=[]\n",
    "for img in tqdm(img_list):\n",
    "    temp_img=load_img(img,grayscale=COLOR,target_size=(IMG_SIZE,IMG_SIZE))\n",
    "    temp_img_array=img_to_array(temp_img)\n",
    "    temp_img_array_list.append(temp_img_array)\n",
    "\n",
    "temp_img_array_list=np.array(temp_img_array_list)\n",
    "\n",
    "#save np.array\n",
    "np.save(SAVE_FILE_NAME+'.npy',temp_img_array_list)\n",
    "\n",
    "#confirmation\n",
    "# print(temp_img_array_list)\n",
    "print(SAVE_FILE_NAME+'.npy')\n",
    "print(temp_img_array_list.shape)\n",
    "for img in tqdm(img_list):\n",
    "    print('converted:',img)"
   ]
  },
  {
   "cell_type": "code",
   "execution_count": null,
   "metadata": {},
   "outputs": [],
   "source": []
  }
 ],
 "metadata": {
  "kernelspec": {
   "display_name": "Python 3",
   "language": "python",
   "name": "python3"
  },
  "language_info": {
   "codemirror_mode": {
    "name": "ipython",
    "version": 3
   },
   "file_extension": ".py",
   "mimetype": "text/x-python",
   "name": "python",
   "nbconvert_exporter": "python",
   "pygments_lexer": "ipython3",
   "version": "3.6.0"
  }
 },
 "nbformat": 4,
 "nbformat_minor": 2
}
