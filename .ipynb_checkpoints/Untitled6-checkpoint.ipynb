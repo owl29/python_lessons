{
 "cells": [
  {
   "cell_type": "code",
   "execution_count": 1,
   "metadata": {},
   "outputs": [
    {
     "ename": "SyntaxError",
     "evalue": "invalid syntax (<ipython-input-1-16a19f22f0da>, line 5)",
     "output_type": "error",
     "traceback": [
      "\u001b[0;36m  File \u001b[0;32m\"<ipython-input-1-16a19f22f0da>\"\u001b[0;36m, line \u001b[0;32m5\u001b[0m\n\u001b[0;31m    zimport plotly\u001b[0m\n\u001b[0m                 ^\u001b[0m\n\u001b[0;31mSyntaxError\u001b[0m\u001b[0;31m:\u001b[0m invalid syntax\n"
     ]
    }
   ],
   "source": [
    "import pandas as pd\n",
    "raw = pd.read_csv(\"birth.csv\")\n",
    "\n",
    "print(raw)\n",
    "import plotly\n",
    "plotly.offline.init_notebook_mode(connected=False)\n",
    "\n",
    "data = [\n",
    "    plotly.graph_objs.Bar(x=raw[\"year\"], y=raw[\"births\"], name=\"Births\"),\n",
    "    plotly.graph_objs.Scatter(x=raw[\"year\"], y=raw[\"birth rate\"], name=\"Birth Rate\", yaxis=\"y2\")\n",
    "]\n",
    "\n",
    "layout = plotly.graph_objs.Layout(\n",
    "    title=\"Births and Birth Rate in Japan\",\n",
    "    legend={\"x\":0.8, \"y\":0.1},\n",
    "    xaxis={\"title\":\"Year\"},\n",
    "    yaxis={\"title\":\"Births\"},\n",
    "    yaxis2={\"title\":\"Birth Rate\", \"overlaying\":\"y\", \"side\":\"right\"},\n",
    ")\n",
    "\n",
    "fig = plotly.graph_objs.Figure(data=data, layout=layout)\n",
    "plotly.offline.iplot(fig)\n",
    "#plotly.offline.plot(fig)\n"
   ]
  },
  {
   "cell_type": "code",
   "execution_count": null,
   "metadata": {},
   "outputs": [],
   "source": []
  }
 ],
 "metadata": {
  "kernelspec": {
   "display_name": "Python 3",
   "language": "python",
   "name": "python3"
  },
  "language_info": {
   "codemirror_mode": {
    "name": "ipython",
    "version": 3
   },
   "file_extension": ".py",
   "mimetype": "text/x-python",
   "name": "python",
   "nbconvert_exporter": "python",
   "pygments_lexer": "ipython3",
   "version": "3.6.0"
  }
 },
 "nbformat": 4,
 "nbformat_minor": 2
}
